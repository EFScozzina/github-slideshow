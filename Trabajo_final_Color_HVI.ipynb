{
  "nbformat": 4,
  "nbformat_minor": 0,
  "metadata": {
    "colab": {
      "name": "Trabajo final: Color HVI.ipynb",
      "provenance": [],
      "collapsed_sections": [],
      "authorship_tag": "ABX9TyNnAd/tB9XYg7eVsAuYGb0S",
      "include_colab_link": true
    },
    "kernelspec": {
      "name": "python3",
      "display_name": "Python 3"
    },
    "language_info": {
      "name": "python"
    }
  },
  "cells": [
    {
      "cell_type": "markdown",
      "metadata": {
        "id": "view-in-github",
        "colab_type": "text"
      },
      "source": [
        "<a href=\"https://colab.research.google.com/github/EFScozzina/github-slideshow/blob/master/Trabajo_final_Color_HVI.ipynb\" target=\"_parent\"><img src=\"https://colab.research.google.com/assets/colab-badge.svg\" alt=\"Open In Colab\"/></a>"
      ]
    },
    {
      "cell_type": "markdown",
      "source": [
        "**Trabajo final Ing. Emilio F. Scozzina** \n",
        "\n",
        "Profesor Dr.Juan Vorobioff\n",
        "\n",
        "**Tema:** Mejora los algoritmos desarrollados por la Dra. Małgorzata Matusiak(2012) para determinar los parametros de calidad HVI, amarillez (+b) y blancura (Rd) , mediente el uso de una red neuronal sencilla.\n",
        "\n",
        "Objetivo: Convertir parametros del espacio de color L*a*b*, que se obtiene mediente un espectrofotometro DL65 a parametros de calidad de color HVI.\n",
        "Don de la Reflactancia (Rd): expresa la blancura de la luz que reflejan las fibras del algodón. Indica el grado de pigmentación de las fibras y corresponde a la reflexión (Rd) esto se representada en la carta de color de Nickerson/Hunter. La Amarillez (+b): expresa la amarillez de la luz que reflejan las fibras del algodón. Se determina con un filtro amarillo y corresponde al valor de +b representado en la carta de color de Nickerson/Hunter."
      ],
      "metadata": {
        "id": "txTaM_gIOMnS"
      }
    },
    {
      "cell_type": "markdown",
      "source": [
        "**1) Iniciamos con  el parametros Reflactancia (Rd): expresa la blancura de la luz que reflejan las fibras del algodón.**"
      ],
      "metadata": {
        "id": "cz4HxjT-RedZ"
      }
    },
    {
      "cell_type": "code",
      "execution_count": 1,
      "metadata": {
        "id": "9kfI6JaL263S"
      },
      "outputs": [],
      "source": [
        "\n",
        "import tensorflow as tf\n",
        "import numpy as np\n"
      ]
    },
    {
      "cell_type": "markdown",
      "source": [
        "Ingreso las tablas de entrada y salida, las mediciones de luminancia L* obtenidas con espectrofotometro DL65 8° y la tabla equivalente de Rm, reflactancia HVI. Arbitrariamente tomo diez valores de entrada y salida para realizar las pruebas, posteriormente se vera si coinciden con el algoritmo deterministico."
      ],
      "metadata": {
        "id": "_jcJYXDIR95E"
      }
    },
    {
      "cell_type": "code",
      "metadata": {
        "id": "MIrfX72vaL1z"
      },
      "source": [
        "lum65 = np.array([0, 10, 20, 30, 40, 50, 60,70,80,90,100], dtype=float)\n",
        "Rm = np.array([-104.1, -83.94, -63.98, -43.62, -23.46, -3.3, 16.86,37.02,57.18,77.34,97.5], dtype=float)\n"
      ],
      "execution_count": 2,
      "outputs": []
    },
    {
      "cell_type": "markdown",
      "source": [
        "Utilzo el framework  Keras que es una biblioteca de Redes Neuronales de Código Abierto escrita en Python. Es capaz de ejecutarse sobre TensorFlow. \n",
        "\n",
        "Para la primera prueba, utilizare dos neuronas, una  de entrada y otra de salida. Es  mas que suficiente para realizar una conversión lineal. La neuronas conectadas tendran un peso y a su vez la neurona de salida tendra un sesgo. \n",
        "\n",
        "El proceso es sencillo, introducimos los valores de L* en la primer neurona que se multiplican por un peso y luego le suman el sesgo de salida, utilizando un modelos secuencial."
      ],
      "metadata": {
        "id": "q_PhFtdzTVEl"
      }
    },
    {
      "cell_type": "code",
      "metadata": {
        "id": "RIG6Y5jEafFL"
      },
      "source": [
        "capa = tf.keras.layers.Dense(units=1, input_shape=[1])\n",
        "modelo = tf.keras.Sequential([capa])\n"
      ],
      "execution_count": 3,
      "outputs": []
    },
    {
      "cell_type": "markdown",
      "source": [
        "La optimización de *Adam* es un método de descenso de gradiente estocástico que se basa en la estimación adaptativa de momentos de primer y segundo orden. \n",
        "\n",
        "La tasa de aprendizaje predeterminada en el Phyton es 0,001, en mi caso  esto es muy lento, asi que para el ejemplo fijo en 0,1. La sentencia Adam permite ajustar los pesos y sesgos para que la red aprenda (que converja a un resultado) y no desaprenda. Las perdidas las ajustamos com  la sentencia *mean_squared_error*. "
      ],
      "metadata": {
        "id": "cc4LKoM_WV4_"
      }
    },
    {
      "cell_type": "code",
      "source": [
        "modelo.compile(\n",
        "    optimizer=tf.keras.optimizers.Adam(0.1),\n",
        "    loss='mean_squared_error'\n",
        ")"
      ],
      "metadata": {
        "id": "qL6fTX0m6cGC"
      },
      "execution_count": 4,
      "outputs": []
    },
    {
      "cell_type": "markdown",
      "source": [
        "Para el ajuste utilizo la función *fit* y le indico que realice 1800 vueltas para entrenarse de modo arbitrario."
      ],
      "metadata": {
        "id": "hztOtDduY5u-"
      }
    },
    {
      "cell_type": "code",
      "metadata": {
        "colab": {
          "base_uri": "https://localhost:8080/"
        },
        "id": "4D-NuUTnbabR",
        "outputId": "364161a9-dd59-49c8-d0f6-455ac5785ec6"
      },
      "source": [
        "print(\"Comenzando entrenamiento...\")\n",
        "historial = modelo.fit(lum65, Rm, epochs=1800, verbose=False)\n",
        "print(\"Modelo entrenado!\")\n"
      ],
      "execution_count": 11,
      "outputs": [
        {
          "output_type": "stream",
          "name": "stdout",
          "text": [
            "Comenzando entrenamiento...\n",
            "Modelo entrenado!\n"
          ]
        }
      ]
    },
    {
      "cell_type": "markdown",
      "source": [
        "Grafico la función de perdidas,  para ver como converge la red al resultado ajustando pesos y sesgos."
      ],
      "metadata": {
        "id": "tpEdE09PZl4M"
      }
    },
    {
      "cell_type": "code",
      "metadata": {
        "colab": {
          "base_uri": "https://localhost:8080/",
          "height": 299
        },
        "id": "px43cF3Nb3mG",
        "outputId": "b783b662-4362-4cad-9511-c3bce4c828d2"
      },
      "source": [
        "import matplotlib.pyplot as plt\n",
        "plt.xlabel(\"# Epoca\")\n",
        "plt.ylabel(\"Magnitud de pérdida\")\n",
        "plt.plot(historial.history[\"loss\"])\n"
      ],
      "execution_count": 12,
      "outputs": [
        {
          "output_type": "execute_result",
          "data": {
            "text/plain": [
              "[<matplotlib.lines.Line2D at 0x7f3fa0699710>]"
            ]
          },
          "metadata": {},
          "execution_count": 12
        },
        {
          "output_type": "display_data",
          "data": {
            "image/png": "[encoded data removed]",
            "text/plain": [
              "<Figure size 432x288 with 1 Axes>"
            ]
          },
          "metadata": {
            "needs_background": "light"
          }
        }
      ]
    },
    {
      "cell_type": "markdown",
      "source": [
        "Para vericar hagamos una predicción con este modelo."
      ],
      "metadata": {
        "id": "edrbG3fkayY-"
      }
    },
    {
      "cell_type": "code",
      "metadata": {
        "colab": {
          "base_uri": "https://localhost:8080/"
        },
        "id": "esVvhzjMcV9f",
        "outputId": "c08021e5-148d-4a88-b49b-2491b820fdb6"
      },
      "source": [
        "print(\"Hagamos una predicción!\")\n",
        "resultado = modelo.predict([15.0])\n",
        "print(\"El resultado es \" + str(resultado) + \" Rm HVI!\")\n",
        "print( \"la red neuronal converge al algoritmo es Rm=2,016xL-104,1\" )"
      ],
      "execution_count": 15,
      "outputs": [
        {
          "output_type": "stream",
          "name": "stdout",
          "text": [
            "Hagamos una predicción!\n",
            "El resultado es [[-73.86652]] Rm HVI!\n",
            "el aloritmo aproximado  por los estudios es Rm=2,016xL-104,1\n"
          ]
        }
      ]
    },
    {
      "cell_type": "markdown",
      "source": [
        "Veamos que datos se asignaron a la estructura interna de la red, y como  se ajusto luego de unas 1000 vueltas a los parametros del algoritmo.  \n",
        "Con lo cual queda desmotrado el metodo mediente el uso de dos neuronas y un entreamiento."
      ],
      "metadata": {
        "id": "NIVnLQvEcKFd"
      }
    },
    {
      "cell_type": "code",
      "source": [
        "print (\"Variables internas del modelo\")\n",
        "print(capa.get_weights())"
      ],
      "metadata": {
        "colab": {
          "base_uri": "https://localhost:8080/"
        },
        "id": "ztPfNvZmcagh",
        "outputId": "746f01ab-caaa-4ec7-d196-7259d4410d91"
      },
      "execution_count": 16,
      "outputs": [
        {
          "output_type": "stream",
          "name": "stdout",
          "text": [
            "Variables internas del modelo\n",
            "[array([[2.015986]], dtype=float32), array([-104.106316], dtype=float32)]\n"
          ]
        }
      ]
    },
    {
      "cell_type": "markdown",
      "source": [
        "**2) Mejora del modelo mediente la adición de capas de neuronas intermedias.**"
      ],
      "metadata": {
        "id": "9QuvzZMTOJsm"
      }
    },
    {
      "cell_type": "code",
      "execution_count": 17,
      "metadata": {
        "id": "HjoWFX11fNRK"
      },
      "outputs": [],
      "source": [
        "import tensorflow as tf\n",
        "import numpy as np"
      ]
    },
    {
      "cell_type": "code",
      "metadata": {
        "id": "bfe6xdaSfTnW"
      },
      "source": [
        "lum65 = np.array([0, 10, 20, 30, 40, 50, 60,70,80,90,100], dtype=float)\n",
        "Rm = np.array([-104.1, -83.94, -63.98, -43.62, -23.46, -3.3, 16.86,37.02,57.18,77.34,97.5], dtype=float)\n"
      ],
      "execution_count": 18,
      "outputs": []
    },
    {
      "cell_type": "markdown",
      "source": [
        "Realizo el mismo proceso pero agregando dos capas de neuronas intermedias, que las identifico como oculta 1 y 2. "
      ],
      "metadata": {
        "id": "0Ay2oJykh44c"
      }
    },
    {
      "cell_type": "code",
      "metadata": {
        "id": "m4Eht189fpeO"
      },
      "source": [
        "#capa = tf.keras.layers.Dense(units=1, input_shape=[1])\n",
        "#modelo = tf.keras.Sequential([capa])\n",
        "\n",
        "oculta1 = tf.keras.layers.Dense(units=3, input_shape=[1])\n",
        "oculta2 = tf.keras.layers.Dense(units=3)\n",
        "salida = tf.keras.layers.Dense(units=1)\n",
        "modelo = tf.keras.Sequential([oculta1, oculta2, salida])"
      ],
      "execution_count": 19,
      "outputs": []
    },
    {
      "cell_type": "code",
      "metadata": {
        "id": "1_WHzWidbN_8"
      },
      "source": [
        "modelo.compile(\n",
        "    optimizer=tf.keras.optimizers.Adam(0.1),\n",
        "    loss='mean_squared_error'\n",
        ")"
      ],
      "execution_count": 20,
      "outputs": []
    },
    {
      "cell_type": "code",
      "metadata": {
        "colab": {
          "base_uri": "https://localhost:8080/"
        },
        "outputId": "067fa55d-d4ff-4a08-d080-d3ccd39ac673",
        "id": "TmDVO3RsgEdd"
      },
      "source": [
        "print(\"Comenzando entrenamiento...\")\n",
        "historial = modelo.fit(lum65, Rm, epochs=10000, verbose=False)\n",
        "print(\"Modelo entrenado!\")\n"
      ],
      "execution_count": 28,
      "outputs": [
        {
          "output_type": "stream",
          "name": "stdout",
          "text": [
            "Comenzando entrenamiento...\n",
            "Modelo entrenado!\n"
          ]
        }
      ]
    },
    {
      "cell_type": "code",
      "metadata": {
        "colab": {
          "base_uri": "https://localhost:8080/",
          "height": 296
        },
        "outputId": "09f0c715-e6a7-4cb7-ed17-a8e265e91566",
        "id": "PdXzg_gQgLqC"
      },
      "source": [
        "import matplotlib.pyplot as plt\n",
        "plt.xlabel(\"# Epoca\")\n",
        "plt.ylabel(\"Magnitud de pérdida\")\n",
        "plt.plot(historial.history[\"loss\"])"
      ],
      "execution_count": 29,
      "outputs": [
        {
          "output_type": "execute_result",
          "data": {
            "text/plain": [
              "[<matplotlib.lines.Line2D at 0x7f3fa0324890>]"
            ]
          },
          "metadata": {},
          "execution_count": 29
        },
        {
          "output_type": "display_data",
          "data": {
            "image/png": "[encoded data removed]",
            "text/plain": [
              "<Figure size 432x288 with 1 Axes>"
            ]
          },
          "metadata": {
            "needs_background": "light"
          }
        }
      ]
    },
    {
      "cell_type": "code",
      "metadata": {
        "colab": {
          "base_uri": "https://localhost:8080/"
        },
        "outputId": "454ce9f3-2330-4676-d5b7-cc922d0cfcd2",
        "id": "bBTcOpTeg9vN"
      },
      "source": [
        "print(\"Hagamos una predicción!\")\n",
        "resultado = modelo.predict([15.0])\n",
        "print(\"El resultado es \" + str(resultado) + \" Rm HVI!\")\n",
        "print( \"la red neuronal converge al algoritmo es Rm=2,016xL-104,1\" )"
      ],
      "execution_count": 31,
      "outputs": [
        {
          "output_type": "stream",
          "name": "stdout",
          "text": [
            "Hagamos una predicción!\n",
            "El resultado es [[-73.71734]] Rm HVI!\n",
            "la red neuronal converge al algoritmo es Rm=2,016xL-104,1\n"
          ]
        }
      ]
    },
    {
      "cell_type": "markdown",
      "source": [
        "Veamos los pesos y sesgos que asigno automaticamente la red a cada nurona y su conección."
      ],
      "metadata": {
        "id": "5F7pZ6bzhcIm"
      }
    },
    {
      "cell_type": "code",
      "metadata": {
        "colab": {
          "base_uri": "https://localhost:8080/"
        },
        "id": "FVDejrBgcokc",
        "outputId": "dfeffd43-7819-455d-8be3-2cdfa447cf62"
      },
      "source": [
        "print(\"Variables internas del modelo\")\n",
        "#print(capa.get_weights())\n",
        "print(oculta1.get_weights())\n",
        "print(oculta2.get_weights())\n",
        "print(salida.get_weights())"
      ],
      "execution_count": 32,
      "outputs": [
        {
          "output_type": "stream",
          "name": "stdout",
          "text": [
            "Variables internas del modelo\n",
            "[array([[ 0.04746364, -0.12554574,  0.62435514]], dtype=float32), array([ -5.813416,  12.515904, -19.766901], dtype=float32)]\n",
            "[array([[-0.98556495, -0.3097638 , -0.7936176 ],\n",
            "       [ 2.3317566 ,  0.57435054,  1.5265998 ],\n",
            "       [-0.82799566,  1.754795  , -0.7608157 ]], dtype=float32), array([ 15.080942, -15.30771 ,  -6.87266 ], dtype=float32)]\n",
            "[array([[-0.29393095],\n",
            "       [ 1.5258564 ],\n",
            "       [-0.27083826]], dtype=float32), array([-12.73443], dtype=float32)]\n"
          ]
        }
      ]
    },
    {
      "cell_type": "markdown",
      "source": [
        ""
      ],
      "metadata": {
        "id": "mlSHdDCEhn0j"
      }
    },
    {
      "cell_type": "markdown",
      "source": [
        "**3) Aplicando el punto N°2 Desarrollare la solución mediente una red neuronal de la ecuecióón de la amarillez segun el modelo HVI +b.**"
      ],
      "metadata": {
        "id": "x5KlKw7Ni_VV"
      }
    },
    {
      "cell_type": "code",
      "execution_count": 33,
      "metadata": {
        "id": "Ixemc_g6jipl"
      },
      "outputs": [],
      "source": [
        "import tensorflow as tf\n",
        "import numpy as np"
      ]
    },
    {
      "cell_type": "code",
      "metadata": {
        "id": "pEaVhJNtjvNx"
      },
      "source": [
        "bcie = np.array([0, 10, 20, 30, 40, 50, 60,70,80,90,100], dtype=float)\n",
        "bHVI = np.array([0.7, 10.527, 20.354, 30.181, 40.008, 49.835, 59.662,69.489,79.316,89.136,98.97], dtype=float)\n"
      ],
      "execution_count": 34,
      "outputs": []
    },
    {
      "cell_type": "code",
      "metadata": {
        "id": "cW9OeJxRj5-u"
      },
      "source": [
        "#capa = tf.keras.layers.Dense(units=1, input_shape=[1])\n",
        "#modelo = tf.keras.Sequential([capa])\n",
        "\n",
        "oculta1 = tf.keras.layers.Dense(units=3, input_shape=[1])\n",
        "oculta2 = tf.keras.layers.Dense(units=3)\n",
        "salida = tf.keras.layers.Dense(units=1)\n",
        "modelo = tf.keras.Sequential([oculta1, oculta2, salida])"
      ],
      "execution_count": 35,
      "outputs": []
    },
    {
      "cell_type": "code",
      "metadata": {
        "id": "uXzwbbq1j_pW"
      },
      "source": [
        "modelo.compile(\n",
        "    optimizer=tf.keras.optimizers.Adam(0.1),\n",
        "    loss='mean_squared_error'\n",
        ")"
      ],
      "execution_count": 39,
      "outputs": []
    },
    {
      "cell_type": "code",
      "metadata": {
        "colab": {
          "base_uri": "https://localhost:8080/"
        },
        "outputId": "6468959c-b91a-4ea0-be0a-e2ef67334dff",
        "id": "x8GZjnDanN8y"
      },
      "source": [
        "print(\"Comenzando entrenamiento...\")\n",
        "historial = modelo.fit(bcie,bHVI, epochs=10000, verbose=False)\n",
        "print(\"Modelo entrenado!\")\n"
      ],
      "execution_count": 40,
      "outputs": [
        {
          "output_type": "stream",
          "name": "stdout",
          "text": [
            "Comenzando entrenamiento...\n",
            "Modelo entrenado!\n"
          ]
        }
      ]
    },
    {
      "cell_type": "code",
      "metadata": {
        "colab": {
          "base_uri": "https://localhost:8080/",
          "height": 296
        },
        "outputId": "2ba3d535-effa-4c12-995a-48246e22169b",
        "id": "c3gQkuGJkjEf"
      },
      "source": [
        "import matplotlib.pyplot as plt\n",
        "plt.xlabel(\"# Epoca\")\n",
        "plt.ylabel(\"Magnitud de pérdida\")\n",
        "plt.plot(historial.history[\"loss\"])"
      ],
      "execution_count": 41,
      "outputs": [
        {
          "output_type": "execute_result",
          "data": {
            "text/plain": [
              "[<matplotlib.lines.Line2D at 0x7f3fa0f73690>]"
            ]
          },
          "metadata": {},
          "execution_count": 41
        },
        {
          "output_type": "display_data",
          "data": {
            "image/png": "[encoded data removed]",
            "text/plain": [
              "<Figure size 432x288 with 1 Axes>"
            ]
          },
          "metadata": {
            "needs_background": "light"
          }
        }
      ]
    },
    {
      "cell_type": "code",
      "source": [
        ""
      ],
      "metadata": {
        "id": "0GK8c3wdkqTn"
      },
      "execution_count": null,
      "outputs": []
    },
    {
      "cell_type": "code",
      "metadata": {
        "colab": {
          "base_uri": "https://localhost:8080/"
        },
        "outputId": "0cb421fc-e387-4658-f659-d38009c7097a",
        "id": "mlC9VDMhkqm8"
      },
      "source": [
        "print(\"Hagamos una predicción!\")\n",
        "resultado = modelo.predict([15.0])\n",
        "print(\"El resultado es \" + str(resultado) + \" bHVI!\")\n",
        "print( \"la red neuronal converge al algoritmo es bHVI=0,928xbcie+0,7\" )"
      ],
      "execution_count": 43,
      "outputs": [
        {
          "output_type": "stream",
          "name": "stdout",
          "text": [
            "Hagamos una predicción!\n",
            "El resultado es [[15.44662]] bHVI!\n",
            "la red neuronal converge al algoritmo es bHVI=0,928xbcie+0,7\n"
          ]
        }
      ]
    },
    {
      "cell_type": "code",
      "metadata": {
        "colab": {
          "base_uri": "https://localhost:8080/"
        },
        "outputId": "dfeffd43-7819-455d-8be3-2cdfa447cf62",
        "id": "Zl0tuWeCkvnH"
      },
      "source": [
        "print(\"Variables internas del modelo\")\n",
        "#print(capa.get_weights())\n",
        "print(oculta1.get_weights())\n",
        "print(oculta2.get_weights())\n",
        "print(salida.get_weights())"
      ],
      "execution_count": null,
      "outputs": [
        {
          "output_type": "stream",
          "name": "stdout",
          "text": [
            "Variables internas del modelo\n",
            "[array([[ 0.04746364, -0.12554574,  0.62435514]], dtype=float32), array([ -5.813416,  12.515904, -19.766901], dtype=float32)]\n",
            "[array([[-0.98556495, -0.3097638 , -0.7936176 ],\n",
            "       [ 2.3317566 ,  0.57435054,  1.5265998 ],\n",
            "       [-0.82799566,  1.754795  , -0.7608157 ]], dtype=float32), array([ 15.080942, -15.30771 ,  -6.87266 ], dtype=float32)]\n",
            "[array([[-0.29393095],\n",
            "       [ 1.5258564 ],\n",
            "       [-0.27083826]], dtype=float32), array([-12.73443], dtype=float32)]\n"
          ]
        }
      ]
    }
  ]
}